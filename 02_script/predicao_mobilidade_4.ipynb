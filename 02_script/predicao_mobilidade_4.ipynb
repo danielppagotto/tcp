{
 "cells": [
  {
   "cell_type": "code",
   "execution_count": 3,
   "id": "de3e1696-70bf-4729-8922-45e5d3373b46",
   "metadata": {},
   "outputs": [],
   "source": [
    "import pandas as pd"
   ]
  },
  {
   "cell_type": "code",
   "execution_count": 49,
   "id": "7af81f3f-0d53-4873-9254-dc720852f29a",
   "metadata": {},
   "outputs": [
    {
     "data": {
      "text/html": [
       "<style type=\"text/css\">\n",
       "</style>\n",
       "<table id=\"T_b1645\">\n",
       "  <thead>\n",
       "    <tr>\n",
       "      <th class=\"blank level0\" >&nbsp;</th>\n",
       "      <th id=\"T_b1645_level0_col0\" class=\"col_heading level0 col0\" >Unnamed: 0</th>\n",
       "      <th id=\"T_b1645_level0_col1\" class=\"col_heading level0 col1\" >id</th>\n",
       "      <th id=\"T_b1645_level0_col2\" class=\"col_heading level0 col2\" >id_seq</th>\n",
       "      <th id=\"T_b1645_level0_col3\" class=\"col_heading level0 col3\" >transicao</th>\n",
       "      <th id=\"T_b1645_level0_col4\" class=\"col_heading level0 col4\" >V1023</th>\n",
       "      <th id=\"T_b1645_level0_col5\" class=\"col_heading level0 col5\" >idade</th>\n",
       "      <th id=\"T_b1645_level0_col6\" class=\"col_heading level0 col6\" >genero</th>\n",
       "      <th id=\"T_b1645_level0_col7\" class=\"col_heading level0 col7\" >VD3004</th>\n",
       "      <th id=\"T_b1645_level0_col8\" class=\"col_heading level0 col8\" >V2010</th>\n",
       "      <th id=\"T_b1645_level0_col9\" class=\"col_heading level0 col9\" >V2005</th>\n",
       "      <th id=\"T_b1645_level0_col10\" class=\"col_heading level0 col10\" >UF</th>\n",
       "      <th id=\"T_b1645_level0_col11\" class=\"col_heading level0 col11\" >qtd_pessoas</th>\n",
       "      <th id=\"T_b1645_level0_col12\" class=\"col_heading level0 col12\" >periodo_ajust</th>\n",
       "      <th id=\"T_b1645_level0_col13\" class=\"col_heading level0 col13\" >ensino_medio</th>\n",
       "      <th id=\"T_b1645_level0_col14\" class=\"col_heading level0 col14\" >ensino_superior</th>\n",
       "      <th id=\"T_b1645_level0_col15\" class=\"col_heading level0 col15\" >raça</th>\n",
       "      <th id=\"T_b1645_level0_col16\" class=\"col_heading level0 col16\" >posicao_familiar</th>\n",
       "      <th id=\"T_b1645_level0_col17\" class=\"col_heading level0 col17\" >tempo_desemprego</th>\n",
       "      <th id=\"T_b1645_level0_col18\" class=\"col_heading level0 col18\" >filhos</th>\n",
       "      <th id=\"T_b1645_level0_col19\" class=\"col_heading level0 col19\" >regiao</th>\n",
       "      <th id=\"T_b1645_level0_col20\" class=\"col_heading level0 col20\" >renda_domiciliar</th>\n",
       "      <th id=\"T_b1645_level0_col21\" class=\"col_heading level0 col21\" >renda_depois</th>\n",
       "    </tr>\n",
       "  </thead>\n",
       "  <tbody>\n",
       "    <tr>\n",
       "      <th id=\"T_b1645_level0_row0\" class=\"row_heading level0 row0\" >0</th>\n",
       "      <td id=\"T_b1645_row0_col0\" class=\"data row0 col0\" >1</td>\n",
       "      <td id=\"T_b1645_row0_col1\" class=\"data row0 col1\" >110003808_04_06_19_09_1989_Homem_1110011</td>\n",
       "      <td id=\"T_b1645_row0_col2\" class=\"data row0 col2\" >5</td>\n",
       "      <td id=\"T_b1645_row0_col3\" class=\"data row0 col3\" >Migrou para TCP</td>\n",
       "      <td id=\"T_b1645_row0_col4\" class=\"data row0 col4\" >Capital</td>\n",
       "      <td id=\"T_b1645_row0_col5\" class=\"data row0 col5\" >28</td>\n",
       "      <td id=\"T_b1645_row0_col6\" class=\"data row0 col6\" >Homem</td>\n",
       "      <td id=\"T_b1645_row0_col7\" class=\"data row0 col7\" >Superior completo</td>\n",
       "      <td id=\"T_b1645_row0_col8\" class=\"data row0 col8\" >Parda</td>\n",
       "      <td id=\"T_b1645_row0_col9\" class=\"data row0 col9\" >Filho(a) somente do responsável</td>\n",
       "      <td id=\"T_b1645_row0_col10\" class=\"data row0 col10\" >Rondônia</td>\n",
       "      <td id=\"T_b1645_row0_col11\" class=\"data row0 col11\" >3.000000</td>\n",
       "      <td id=\"T_b1645_row0_col12\" class=\"data row0 col12\" >Pré-pandemia</td>\n",
       "      <td id=\"T_b1645_row0_col13\" class=\"data row0 col13\" >Ensino médio completo</td>\n",
       "      <td id=\"T_b1645_row0_col14\" class=\"data row0 col14\" >Superior completo</td>\n",
       "      <td id=\"T_b1645_row0_col15\" class=\"data row0 col15\" >Não branco</td>\n",
       "      <td id=\"T_b1645_row0_col16\" class=\"data row0 col16\" >Não responsável pelo domicílio</td>\n",
       "      <td id=\"T_b1645_row0_col17\" class=\"data row0 col17\" >8</td>\n",
       "      <td id=\"T_b1645_row0_col18\" class=\"data row0 col18\" >0</td>\n",
       "      <td id=\"T_b1645_row0_col19\" class=\"data row0 col19\" >Norte</td>\n",
       "      <td id=\"T_b1645_row0_col20\" class=\"data row0 col20\" >750.000000</td>\n",
       "      <td id=\"T_b1645_row0_col21\" class=\"data row0 col21\" >2750.000000</td>\n",
       "    </tr>\n",
       "    <tr>\n",
       "      <th id=\"T_b1645_level0_row1\" class=\"row_heading level0 row1\" >1</th>\n",
       "      <td id=\"T_b1645_row1_col0\" class=\"data row1 col0\" >2</td>\n",
       "      <td id=\"T_b1645_row1_col1\" class=\"data row1 col1\" >110005539_10_06_06_09_1985_Homem_1110011</td>\n",
       "      <td id=\"T_b1645_row1_col2\" class=\"data row1 col2\" >28</td>\n",
       "      <td id=\"T_b1645_row1_col3\" class=\"data row1 col3\" >Migrou para TCP</td>\n",
       "      <td id=\"T_b1645_row1_col4\" class=\"data row1 col4\" >Capital</td>\n",
       "      <td id=\"T_b1645_row1_col5\" class=\"data row1 col5\" >33</td>\n",
       "      <td id=\"T_b1645_row1_col6\" class=\"data row1 col6\" >Homem</td>\n",
       "      <td id=\"T_b1645_row1_col7\" class=\"data row1 col7\" >Médio completo ou equivalente</td>\n",
       "      <td id=\"T_b1645_row1_col8\" class=\"data row1 col8\" >Parda</td>\n",
       "      <td id=\"T_b1645_row1_col9\" class=\"data row1 col9\" >Filho(a) do responsável e do cônjuge</td>\n",
       "      <td id=\"T_b1645_row1_col10\" class=\"data row1 col10\" >Rondônia</td>\n",
       "      <td id=\"T_b1645_row1_col11\" class=\"data row1 col11\" >4.000000</td>\n",
       "      <td id=\"T_b1645_row1_col12\" class=\"data row1 col12\" >Pré-pandemia</td>\n",
       "      <td id=\"T_b1645_row1_col13\" class=\"data row1 col13\" >Ensino médio completo</td>\n",
       "      <td id=\"T_b1645_row1_col14\" class=\"data row1 col14\" >Sem superior completo</td>\n",
       "      <td id=\"T_b1645_row1_col15\" class=\"data row1 col15\" >Não branco</td>\n",
       "      <td id=\"T_b1645_row1_col16\" class=\"data row1 col16\" >Não responsável pelo domicílio</td>\n",
       "      <td id=\"T_b1645_row1_col17\" class=\"data row1 col17\" >60</td>\n",
       "      <td id=\"T_b1645_row1_col18\" class=\"data row1 col18\" >0</td>\n",
       "      <td id=\"T_b1645_row1_col19\" class=\"data row1 col19\" >Norte</td>\n",
       "      <td id=\"T_b1645_row1_col20\" class=\"data row1 col20\" >162.500000</td>\n",
       "      <td id=\"T_b1645_row1_col21\" class=\"data row1 col21\" >700.000000</td>\n",
       "    </tr>\n",
       "  </tbody>\n",
       "</table>\n"
      ],
      "text/plain": [
       "<pandas.io.formats.style.Styler at 0x2a718d78e60>"
      ]
     },
     "execution_count": 49,
     "metadata": {},
     "output_type": "execute_result"
    }
   ],
   "source": [
    "df = pd.read_csv(r\"C:\\Users\\HP I3\\OneDrive\\Documentos\\GitHub\\tcp\\01_dados\\data_mobilidade_v4.csv\")\n",
    "\n",
    "df.head(2).style"
   ]
  },
  {
   "cell_type": "code",
   "execution_count": 47,
   "id": "a2d99c43-2497-4e21-b54d-914b4fe19954",
   "metadata": {},
   "outputs": [],
   "source": [
    "df_tratado = df.rename(columns={'V1023':'regiao_urbana','VD3004':'escolaridade','V2010':'cor','UF':'uf'})\n",
    "\n",
    "df_tratado = df_tratado[['transicao','regiao_urbana','idade','escolaridade', 'genero', 'cor','uf','qtd_pessoas',\n",
    "                         'periodo_ajust','posicao_familiar', 'tempo_desemprego','filhos', 'regiao','renda_domiciliar']]\n",
    "\n",
    "df_tratado.head(2).style"
   ]
  },
  {
   "cell_type": "code",
   "execution_count": null,
   "id": "a75e22d6-244b-4112-96ed-455fd7a729c0",
   "metadata": {},
   "outputs": [],
   "source": []
  }
 ],
 "metadata": {
  "kernelspec": {
   "display_name": "Python [conda env:base] *",
   "language": "python",
   "name": "conda-base-py"
  },
  "language_info": {
   "codemirror_mode": {
    "name": "ipython",
    "version": 3
   },
   "file_extension": ".py",
   "mimetype": "text/x-python",
   "name": "python",
   "nbconvert_exporter": "python",
   "pygments_lexer": "ipython3",
   "version": "3.12.7"
  }
 },
 "nbformat": 4,
 "nbformat_minor": 5
}
